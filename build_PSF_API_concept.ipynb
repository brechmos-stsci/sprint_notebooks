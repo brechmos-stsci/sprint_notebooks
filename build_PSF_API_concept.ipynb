{
 "cells": [
  {
   "cell_type": "code",
   "execution_count": null,
   "metadata": {
    "collapsed": true
   },
   "outputs": [],
   "source": [
    "... imports ...\n",
    "\n",
    "from photutils.psf import build_psf"
   ]
  },
  {
   "cell_type": "code",
   "execution_count": null,
   "metadata": {
    "collapsed": true
   },
   "outputs": [],
   "source": [
    "# do whatever data loading is required. \n",
    "...\n",
    "list_of_ndd_obj = load_data(...)  \n",
    "# The end result should be a list of NDData objects containing all the \n",
    "# dithers in one filter for that observation"
   ]
  },
  {
   "cell_type": "markdown",
   "metadata": {},
   "source": [
    "# Baseline object"
   ]
  },
  {
   "cell_type": "markdown",
   "metadata": {},
   "source": [
    "To follow the rest of the PSF machinery, the structure here is to create a class where all the parameters get set, and then run that class on the data."
   ]
  },
  {
   "cell_type": "markdown",
   "metadata": {},
   "source": [
    "## Creating the builder "
   ]
  },
  {
   "cell_type": "code",
   "execution_count": null,
   "metadata": {
    "collapsed": true
   },
   "outputs": [],
   "source": [
    "psf_builder = PSFBuilder(model=Gaussian2D())\n",
    "# Or for something like EPSF where they fitting might need to be special, you might do\n",
    "psf_builder = PSFBuilder(model=EPSF(), fitter=EPPSFFitter(...))"
   ]
  },
  {
   "cell_type": "code",
   "execution_count": null,
   "metadata": {
    "collapsed": true
   },
   "outputs": [],
   "source": [
    "# it's here that you'd specify any additional parameters/specify extra algorithm details, etc.\n",
    "psf_builder = PSFBuilder(model=Gaussian2D(), psfstar_threshold=-10*u.mag)\n",
    "\n",
    "# as a stretch goal, it would be neat if this were smart enough to use units to make input handling easier:\n",
    "psf_builder = PSFBuilder(model=Gaussian2D(), psfstar_threshold=1e4*u.adu)"
   ]
  },
  {
   "cell_type": "markdown",
   "metadata": {},
   "source": [
    "You could also use this to specify specific algorithms for sub-stanges of the process.  For example, if I wanted a specific star finder: e.g.,"
   ]
  },
  {
   "cell_type": "code",
   "execution_count": null,
   "metadata": {
    "collapsed": true
   },
   "outputs": [],
   "source": [
    "psf_builder = PSFBuilder(model=EPSF(), fitter=EPPSFFitter(...), star_finder=IRAFStarFinder(...))"
   ]
  },
  {
   "cell_type": "markdown",
   "metadata": {},
   "source": [
    "## Running the builder "
   ]
  },
  {
   "cell_type": "code",
   "execution_count": null,
   "metadata": {
    "collapsed": true
   },
   "outputs": [],
   "source": [
    "psf_model, psf_stars = psf_builder(list_of_ndd_obj)"
   ]
  },
  {
   "cell_type": "markdown",
   "metadata": {},
   "source": [
    "`psf_stars` is an astropy table that looks like what the star-finder outputs, with aperture photometry and the results of the final fitting included. It would have a final column called something like `'is_psf_star'`, and if True, \n",
    "\n",
    "The user might look at `psf_stars` and decide some of the stars are good/bad, in which case they can fiddle around with the `'is_psf_star'` column and do the below to re-fit (skips the star-finding step)"
   ]
  },
  {
   "cell_type": "code",
   "execution_count": null,
   "metadata": {
    "collapsed": true
   },
   "outputs": [],
   "source": [
    "psf_model, psf_stars2 = psf_builder(list_of_ndd_obj, psf_stars=psf_stars)"
   ]
  },
  {
   "cell_type": "markdown",
   "metadata": {},
   "source": [
    "In this case, no star-finder would get run, it would just use what's there.  Users"
   ]
  },
  {
   "cell_type": "markdown",
   "metadata": {},
   "source": [
    "The key end result is the `psf_model`, which is a 2D Astropy model that maps x,y to the PSF flux.  This is the same  current `photutils.psf` models like `FittableImageModel`. Should be normalized so that if the `flux` parameter is 1, the PSF's total flux is 1. Note that this *might* not mean the ePSF sums to 1: this allows aperture corrections to be folded into the model.\n",
    "\n"
   ]
  },
  {
   "cell_type": "markdown",
   "metadata": {},
   "source": [
    "# Heuristic high-level function "
   ]
  },
  {
   "cell_type": "markdown",
   "metadata": {},
   "source": [
    "A `build_psf` function here would have to make a lot of assumptions about the data, etc.  So the function would probably need to contain a lot of heuristic bits to guess detection thresholds,  etc."
   ]
  },
  {
   "cell_type": "code",
   "execution_count": null,
   "metadata": {
    "collapsed": true
   },
   "outputs": [],
   "source": [
    "psf_model = build_psf(list_of_ndd_obj)"
   ]
  }
 ],
 "metadata": {
  "anaconda-cloud": {},
  "kernelspec": {
   "display_name": "Python [default]",
   "language": "python",
   "name": "python3"
  },
  "language_info": {
   "codemirror_mode": {
    "name": "ipython",
    "version": 3
   },
   "file_extension": ".py",
   "mimetype": "text/x-python",
   "name": "python",
   "nbconvert_exporter": "python",
   "pygments_lexer": "ipython3",
   "version": "3.5.2"
  }
 },
 "nbformat": 4,
 "nbformat_minor": 1
}

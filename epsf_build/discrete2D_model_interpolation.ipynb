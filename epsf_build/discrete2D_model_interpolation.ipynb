{
 "metadata": {
  "name": "",
  "signature": "sha256:0b1d1b63da07fbd0d1da7fd841fc3b7fef230050fb5724059076aa6fdd193692"
 },
 "nbformat": 3,
 "nbformat_minor": 0,
 "worksheets": [
  {
   "cells": [
    {
     "cell_type": "markdown",
     "metadata": {},
     "source": [
      "# Example of using Discrete2DModel to perform resampling and fitting #"
     ]
    },
    {
     "cell_type": "code",
     "collapsed": false,
     "input": [
      "from psfutils import Discrete2DModel\n",
      "from astropy.modeling.functional_models import Gaussian2D\n",
      "from astropy.modeling import fitting\n",
      "import numpy as np\n",
      "from scipy.special import erf\n",
      "%matplotlib inline\n",
      "import matplotlib.pyplot as plt"
     ],
     "language": "python",
     "metadata": {},
     "outputs": [],
     "prompt_number": 1
    },
    {
     "cell_type": "markdown",
     "metadata": {},
     "source": [
      "## I. Create a (discrete) test image of a Gaussian source ##"
     ]
    },
    {
     "cell_type": "code",
     "collapsed": false,
     "input": [
      "# define analytical model:\n",
      "fwhm = 4.0\n",
      "flux0 = 1000\n",
      "n = 101\n",
      "cx = 20.25\n",
      "cy = 27.82\n",
      "sig = fwhm / (2.0 * np.sqrt(2.0 * np.log(2.0)))\n",
      "amplitude0 = 0.5 * flux0 / (np.pi * sig**2) / erf((n - 1) / (np.sqrt(2) * sig))**2\n",
      "print(\"amplitude0 = {}\".format(amplitude0))\n",
      "gs2d = Gaussian2D(amplitude=amplitude0, x_mean=cx, y_mean=cy, x_stddev=sig, y_stddev=sig)\n",
      "\n",
      "# compute model on a grid:\n",
      "ind = np.arange(n, dtype=float)\n",
      "x, y = np.meshgrid(ind, ind)\n",
      "ref_image = gs2d(x, y)\n",
      "plt.matshow(np.log10(ref_image+1e-20), vmin=-10, vmax=1.75, cmap=plt.cm.gray);"
     ],
     "language": "python",
     "metadata": {},
     "outputs": [
      {
       "output_type": "stream",
       "stream": "stdout",
       "text": [
        "amplitude0 = 55.1589000382\n"
       ]
      },
      {
       "metadata": {},
       "output_type": "display_data",
       "png": "[encoded data removed]",
       "text": [
        "<matplotlib.figure.Figure at 0x10aedea50>"
       ]
      }
     ],
     "prompt_number": 2
    },
    {
     "cell_type": "markdown",
     "metadata": {},
     "source": [
      "## II. Create a (discrete) model of a Gaussian centered at the center of the grid ##"
     ]
    },
    {
     "cell_type": "code",
     "collapsed": false,
     "input": [
      "# define analytical model:\n",
      "flux = 1\n",
      "n = 101\n",
      "ox = (n - 1) / 2\n",
      "oy = (n - 1) / 2\n",
      "sig = fwhm / (2.0 * np.sqrt(2.0 * np.log(2.0)))\n",
      "amplitude = 0.5 * flux / (np.pi * sig**2) / erf((n - 1) / (np.sqrt(2) * sig))**2\n",
      "gs_model = Gaussian2D(amplitude=amplitude, x_mean=ox, y_mean=oy, x_stddev=sig, y_stddev=sig)\n",
      "\n",
      "# compute model on an oversampled (x4) grid:\n",
      "ind = np.arange(n, dtype=float)\n",
      "x, y = np.meshgrid(ind, ind)\n",
      "psf_data = gs_model(x, y)\n",
      "\n",
      "# define discrete fittable 2D model:\n",
      "psf_model = Discrete2DModel(psf_data, flux=flux, origin=(ox, oy), degree=5)\n",
      "plt.matshow(np.log10(psf_model.data+1e-20), vmin=-13, vmax=1.75-3, cmap=plt.cm.gray);"
     ],
     "language": "python",
     "metadata": {},
     "outputs": [
      {
       "metadata": {},
       "output_type": "display_data",
       "png": "[encoded data removed]",
       "text": [
        "<matplotlib.figure.Figure at 0x10aede890>"
       ]
      }
     ],
     "prompt_number": 3
    },
    {
     "cell_type": "markdown",
     "metadata": {},
     "source": [
      "## III. Fit the continuous model to the reference image ##"
     ]
    },
    {
     "cell_type": "code",
     "collapsed": false,
     "input": [
      "# first, set the parameters of the model close to the true parameters used to create reference image:\n",
      "gs_model.amplitude = 1\n",
      "gs_model.x_mean = cx + 3.2 # 3.2 is the offset from true value\n",
      "gs_model.y_mean = cy + 1.2\n",
      "\n",
      "# freeze other parameters:\n",
      "gs_model.theta.fixed = True\n",
      "gs_model.x_stddev.fixed = True\n",
      "gs_model.y_stddev.fixed = True\n",
      "\n",
      "# create fitter:\n",
      "fit = fitting.LevMarLSQFitter()\n",
      "\n",
      "# do the fitting:\n",
      "fitted_gs_model = fit(gs_model, x, y, ref_image);\n",
      "\n",
      "# print results:\n",
      "print(\"fitted amplitude: {}   |A-A0| = {:.3e}\".format(fitted_gs_model.amplitude.value,\n",
      "                                                  np.abs(fitted_gs_model.amplitude.value - amplitude0)))\n",
      "print(\"fitted x_mean: {}   |x_mean-cx| = {:.3e}\".format(fitted_gs_model.x_mean.value,\n",
      "                                                  np.abs(fitted_gs_model.x_mean.value - cx)))\n",
      "print(\"fitted y_mean: {}   |y_mean-cy| = {:.3e}\".format(fitted_gs_model.y_mean.value,\n",
      "                                                  np.abs(fitted_gs_model.y_mean.value - cy)))"
     ],
     "language": "python",
     "metadata": {},
     "outputs": [
      {
       "output_type": "stream",
       "stream": "stdout",
       "text": [
        "fitted amplitude: 55.1589000382   |A-A0| = 0.000e+00\n",
        "fitted x_mean: 20.25   |x_mean-cx| = 0.000e+00\n",
        "fitted y_mean: 27.82   |y_mean-cy| = 0.000e+00\n"
       ]
      }
     ],
     "prompt_number": 4
    },
    {
     "cell_type": "markdown",
     "metadata": {},
     "source": [
      "## IV. Fit the discrete model to the reference image ##"
     ]
    },
    {
     "cell_type": "code",
     "collapsed": false,
     "input": [
      "# first, set the parameters of the model close to the true parameters used to create reference image:\n",
      "psf = psf_model.copy()\n",
      "psf.flux = 1000\n",
      "psf.dx =  (cx + 3.2) # 3.2 is the offset from true value (error in the initial parameter estimate)\n",
      "psf.dy =  (cy + 1.2)\n",
      "\n",
      "# create fitter:\n",
      "fit = fitting.LevMarLSQFitter()\n",
      "\n",
      "# do the fitting:\n",
      "fitted_psf_model = fit(psf, x, y, ref_image)\n",
      "\n",
      "# print results:\n",
      "print(\"fitted flux: {}   |flux-flux0| = {:.3e}\".format(fitted_psf_model.flux.value,\n",
      "                                                  np.abs(fitted_psf_model.flux.value - flux0)))\n",
      "print(\"fitted x_mean: {}   |x_mean-cx| = {:.3e}\".format(fitted_psf_model.dx.value,\n",
      "                                                  np.abs(fitted_psf_model.dx.value - cx)))\n",
      "print(\"fitted y_mean: {}   |y_mean-cy| = {:.3e}\".format(fitted_psf_model.dy.value,\n",
      "                                                  np.abs(fitted_psf_model.dy.value - cy)))\n",
      "\n",
      "# resample the fitted psf onto the reference image grid:\n",
      "plt.matshow(np.log10(fitted_psf_model(x,y)+1e-8), vmin=-8, vmax=1.75-3, cmap=plt.cm.gray);"
     ],
     "language": "python",
     "metadata": {},
     "outputs": [
      {
       "output_type": "stream",
       "stream": "stdout",
       "text": [
        "fitted flux: 1000.00748079   |flux-flux0| = 7.481e-03\n",
        "fitted x_mean: 20.250024692   |x_mean-cx| = 2.469e-05\n",
        "fitted y_mean: 27.8199774642   |y_mean-cy| = 2.254e-05\n"
       ]
      },
      {
       "metadata": {},
       "output_type": "display_data",
       "png": "[encoded data removed]",
       "text": [
        "<matplotlib.figure.Figure at 0x10b16c990>"
       ]
      }
     ],
     "prompt_number": 5
    },
    {
     "cell_type": "markdown",
     "metadata": {},
     "source": [
      "## V. Resample the discrete model an oversampled (x4) grid ##"
     ]
    },
    {
     "cell_type": "code",
     "collapsed": false,
     "input": [
      "# create an oversampled grid:\n",
      "oversampling = 4\n",
      "ind = np.arange(oversampling * (n - 1) + 1, dtype=float) / oversampling\n",
      "x, y = np.meshgrid(ind - psf_model.ox, ind - psf_model.oy)\n",
      "oversampled_psf_data = psf_model(x, y)\n",
      "\n",
      "# resample the fitted psf onto the reference image grid:\n",
      "plt.matshow(np.log10(oversampled_psf_data + 1e-8), vmin=-8, vmax=1.75-3, cmap=plt.cm.gray);"
     ],
     "language": "python",
     "metadata": {},
     "outputs": [
      {
       "metadata": {},
       "output_type": "display_data",
       "png": "[encoded data removed]",
       "text": [
        "<matplotlib.figure.Figure at 0x105481690>"
       ]
      }
     ],
     "prompt_number": 6
    }
   ],
   "metadata": {}
  }
 ]
}
{
 "metadata": {
  "name": "",
  "signature": "sha256:dd10592a9ef5b8a87bbe185959767ea06859339c30c3219b3b46edaab6ecc4c6"
 },
 "nbformat": 3,
 "nbformat_minor": 0,
 "worksheets": [
  {
   "cells": [
    {
     "cell_type": "markdown",
     "metadata": {},
     "source": [
      "# Example of empirical PSF (ePSF) creation and ePSF fitting to stars #"
     ]
    },
    {
     "cell_type": "code",
     "collapsed": false,
     "input": [
      "import psfutils\n",
      "from astropy.io import fits\n",
      "from astropy.modeling import fitting\n",
      "import numpy as np\n",
      "%matplotlib inline\n",
      "import matplotlib.pyplot as plt"
     ],
     "language": "python",
     "metadata": {},
     "outputs": [],
     "prompt_number": 1
    },
    {
     "cell_type": "markdown",
     "metadata": {},
     "source": [
      "## I. Extract star models from the image ##"
     ]
    },
    {
     "cell_type": "code",
     "collapsed": false,
     "input": [
      "stars, blc = psfutils.extract_stars('selected.xy', 'jayskysub.fits', extract_size=21, recenter=True)"
     ],
     "language": "python",
     "metadata": {},
     "outputs": [],
     "prompt_number": 2
    },
    {
     "cell_type": "code",
     "collapsed": false,
     "input": [
      "# Alternatively, one can load Jay's original image and subtract background:\n",
      "image = fits.getdata('PIX_001.fits')\n",
      "image -= 100.559173\n",
      "stars, blc = psfutils.extract_stars('selected.xy', image, extract_size=21)"
     ],
     "language": "python",
     "metadata": {},
     "outputs": [],
     "prompt_number": 3
    },
    {
     "cell_type": "code",
     "collapsed": false,
     "input": [
      "# Show \"cutouts\" for the first five stars:\n",
      "mindata = None\n",
      "maxdata = None\n",
      "plt.figure(figsize=(15,15))\n",
      "for k in range(5):\n",
      "    mn = np.amin(stars[k].ndata)\n",
      "    mx = np.amax(stars[k].ndata)\n",
      "    if mindata is None or mindata > mn:\n",
      "        mindata = mn\n",
      "    if maxdata is None or maxdata < mx:\n",
      "        maxdata = mx\n",
      "for k in range(5):\n",
      "    ax = plt.subplot(151 + k)\n",
      "    ax.axis('off')\n",
      "    ax.matshow(np.log10(np.abs(stars[k].ndata)), vmin=-5, vmax=np.log10(maxdata), cmap=plt.cm.gray)\n",
      "plt.show()"
     ],
     "language": "python",
     "metadata": {},
     "outputs": [
      {
       "metadata": {},
       "output_type": "display_data",
       "png": "[encoded data removed]",
       "text": [
        "<matplotlib.figure.Figure at 0x10a18ded0>"
       ]
      }
     ],
     "prompt_number": 4
    },
    {
     "cell_type": "markdown",
     "metadata": {},
     "source": [
      "## II. Iteratively Build the ePSF: ##"
     ]
    },
    {
     "cell_type": "markdown",
     "metadata": {},
     "source": [
      "### 1. Build ePSF and fit it to stars that make up this ePSF ###"
     ]
    },
    {
     "cell_type": "code",
     "collapsed": false,
     "input": [
      "epsf, fitted_stars, fitted_fluxes, fi, resid, err, eps, niter = psfutils.iter_build_psf(\n",
      "    stars, oversampling=4, residuals=True,\n",
      "    max_iter=20, degree=3, ker='quad',\n",
      "    stat='median', nclip=10, fitbox=5\n",
      ")\n",
      "print(\"Convergence achieved after {:d} iterations\".format(niter))"
     ],
     "language": "python",
     "metadata": {},
     "outputs": [
      {
       "output_type": "stream",
       "stream": "stdout",
       "text": [
        "Convergence achieved after 6 iterations\n"
       ]
      }
     ],
     "prompt_number": 5
    },
    {
     "cell_type": "markdown",
     "metadata": {},
     "source": [
      "### 2. [Optionally] Save ePSF, last star in the list, and residual of the fit to files: ###"
     ]
    },
    {
     "cell_type": "code",
     "collapsed": false,
     "input": [
      "# to save the results (last star in the list) to FITS files:\n",
      "fits.writeto('psf.fits', epsf.data, clobber=True)\n",
      "fits.writeto('diff.fits', resid[-1], clobber=True)\n",
      "fits.writeto('star.fits', fitted_stars[-1].data, clobber=True)"
     ],
     "language": "python",
     "metadata": {},
     "outputs": [],
     "prompt_number": 6
    },
    {
     "cell_type": "markdown",
     "metadata": {},
     "source": [
      "### 3. Display the ePSF: ###"
     ]
    },
    {
     "cell_type": "code",
     "collapsed": false,
     "input": [
      "# Show \"cutouts\" for the first five stars:\n",
      "plt.matshow(np.log10(np.abs(epsf.data)), vmin=-7, vmax=np.log10(np.amax(epsf.data)), cmap=plt.cm.gray)\n",
      "plt.show()"
     ],
     "language": "python",
     "metadata": {},
     "outputs": [
      {
       "metadata": {},
       "output_type": "display_data",
       "png": "[encoded data removed]",
       "text": [
        "<matplotlib.figure.Figure at 0x10c8fcdd0>"
       ]
      }
     ],
     "prompt_number": 7
    },
    {
     "cell_type": "markdown",
     "metadata": {},
     "source": [
      "### 4. Display residuals of the ePSF fit to first five stars [normalized to star's flux] ###"
     ]
    },
    {
     "cell_type": "code",
     "collapsed": false,
     "input": [
      "# find data limits\n",
      "mindata = None\n",
      "maxdata = None\n",
      "plt.figure(figsize=(15,15))\n",
      "for k in range(5):\n",
      "    mn = np.amin(resid[k] / fitted_fluxes[k])\n",
      "    mx = np.amax(resid[k] / fitted_fluxes[k])\n",
      "    if mindata is None or mindata > mn:\n",
      "        mindata = mn\n",
      "    if maxdata is None or maxdata < mx:\n",
      "        maxdata = mx\n",
      "        \n",
      "# plot normalized residuals:\n",
      "for k in range(5):\n",
      "    ax = plt.subplot(151 + k)\n",
      "    ax.axis('off')\n",
      "    ax.matshow(resid[k] / fitted_fluxes[k], vmin=mindata/2, vmax=maxdata/10, cmap=plt.cm.gray)\n",
      "plt.show()"
     ],
     "language": "python",
     "metadata": {},
     "outputs": [
      {
       "metadata": {},
       "output_type": "display_data",
       "png": "[encoded data removed]",
       "text": [
        "<matplotlib.figure.Figure at 0x10c8fcf50>"
       ]
      }
     ],
     "prompt_number": 8
    },
    {
     "cell_type": "markdown",
     "metadata": {},
     "source": [
      "### 5. Show initial and fitted coordinates of the stars ###"
     ]
    },
    {
     "cell_type": "code",
     "collapsed": false,
     "input": [
      "orig_scr_coord = np.loadtxt('selected.xy')\n",
      "print(\" Initial coordinates:           Fitted coordinates:\\n\"\n",
      "      \" --------------------           -------------------\")\n",
      "for o, s, b in zip(orig_scr_coord, fitted_stars, blc):\n",
      "    ox, oy = o\n",
      "    fx, fy = s.origin\n",
      "    fx += b[0]\n",
      "    fy += b[1]\n",
      "    print(\"({:9.4f}, {:9.4f})   -->   ({:9.4f}, {:9.4f})\".format(ox, oy, fx, fy))"
     ],
     "language": "python",
     "metadata": {},
     "outputs": [
      {
       "output_type": "stream",
       "stream": "stdout",
       "text": [
        " Initial coordinates:           Fitted coordinates:\n",
        " --------------------           -------------------\n",
        "(1051.0000, 1210.5000)   -->   (1050.1532, 1209.6235)\n",
        "(1555.0000,  952.0000)   -->   (1553.9329,  951.1344)\n",
        "(1287.0000,  902.0000)   -->   (1285.8661,  901.2884)\n",
        "(1535.0000,  735.0000)   -->   (1533.7055,  733.9239)\n",
        "(1335.0000,  585.0000)   -->   (1333.4468,  584.6481)\n",
        "(1209.0000,  649.0000)   -->   (1208.1636,  647.8979)\n",
        "( 206.0000,  652.0000)   -->   ( 205.6008,  651.0274)\n",
        "( 625.0000,  374.0000)   -->   ( 624.3499,  372.6196)\n",
        "( 146.0000,  438.0000)   -->   ( 145.3538,  437.2711)\n",
        "( 617.0000,  148.0000)   -->   ( 615.9691,  147.6914)\n",
        "( 419.0000,  952.0000)   -->   ( 418.0959,  950.9383)\n",
        "( 453.0000,  859.0000)   -->   ( 451.8915,  858.0434)\n",
        "( 268.0000, 1427.0000)   -->   ( 266.7137, 1426.0277)\n",
        "( 242.0000, 1504.0000)   -->   ( 240.6351, 1502.8286)\n",
        "(1106.0000, 1426.0000)   -->   (1105.1193, 1425.1353)\n",
        "(1462.0000, 1385.0000)   -->   (1460.8744, 1384.3202)\n",
        "(1380.0000, 1866.0000)   -->   (1378.9911, 1864.8438)\n",
        "(1168.0000, 1194.0000)   -->   (1167.0231, 1193.5235)\n",
        "(1199.0000,  860.5000)   -->   (1197.6432,  859.2194)\n",
        "( 969.0000,  417.5000)   -->   ( 967.5215,  417.1519)\n",
        "( 440.0000,  654.5000)   -->   ( 439.6953,  653.7402)\n",
        "( 483.0000,  763.5000)   -->   ( 481.3188,  763.0099)\n",
        "( 570.0000,  704.5000)   -->   ( 568.7410,  703.9360)\n",
        "(1266.0000,  483.5000)   -->   (1264.4819,  483.0037)\n",
        "(1649.0000,  158.5000)   -->   (1647.9524,  157.9054)\n",
        "(1739.0000,  352.5000)   -->   (1738.4860,  351.6789)\n",
        "(1990.0000, 1819.5000)   -->   (1989.0863, 1818.9149)\n",
        "(2038.0000, 1862.5000)   -->   (2037.0000, 1861.5362)\n",
        "(1445.0000, 1881.5000)   -->   (1444.5617, 1880.8222)\n",
        "(1421.0000, 1696.5000)   -->   (1420.0303, 1695.5740)\n",
        "(1687.0000, 1466.5000)   -->   (1686.2407, 1465.7908)\n",
        "(1997.0000, 1539.5000)   -->   (1996.5277, 1539.4785)\n",
        "(2033.0000, 1546.5000)   -->   (2032.0875, 1545.9447)\n",
        "( 953.0000, 1524.5000)   -->   ( 951.5011, 1523.2348)\n",
        "( 958.0000, 1560.5000)   -->   ( 957.0906, 1559.3159)\n",
        "(1129.0000, 1061.0000)   -->   (1128.5365, 1060.1747)\n",
        "(1182.0000, 1043.0000)   -->   (1180.8409, 1042.1422)\n",
        "(1304.0000, 1070.0000)   -->   (1302.9237, 1069.1998)\n",
        "(1254.0000, 1032.0000)   -->   (1252.5922, 1030.7752)\n",
        "(1261.0000,  973.0000)   -->   (1260.3394,  972.0993)\n",
        "(1199.0000,  916.0000)   -->   (1198.1852,  915.4589)\n",
        "(1089.0000,  963.0000)   -->   (1087.8518,  962.3518)\n",
        "(1020.0000,  995.0000)   -->   (1019.1836,  994.1440)\n",
        "(1002.0000, 1027.0000)   -->   (1000.9575, 1025.7800)\n",
        "( 987.0000, 1042.0000)   -->   ( 986.0602, 1040.8618)\n",
        "( 967.0000, 1044.0000)   -->   ( 965.9801, 1043.3686)\n",
        "(1018.0000, 1120.0000)   -->   (1016.8282, 1119.7202)\n",
        "( 882.0000, 1029.0000)   -->   ( 881.5339, 1028.0486)\n",
        "( 967.0000,  980.0000)   -->   ( 966.1804,  979.2799)\n",
        "( 946.0000,  994.0000)   -->   ( 944.9156,  993.1652)\n",
        "( 903.0000,  926.0000)   -->   ( 902.3335,  925.5899)\n",
        "( 811.0000,  987.0000)   -->   ( 809.8993,  986.2193)\n",
        "( 706.0000, 1013.0000)   -->   ( 704.8735, 1012.8556)\n",
        "( 690.0000, 1077.0000)   -->   ( 689.2106, 1076.7139)\n",
        "(1042.0000,  858.0000)   -->   (1040.2568,  857.9625)\n",
        "(1012.0000,  871.0000)   -->   (1011.2560,  869.5390)\n",
        "( 982.0000,  895.0000)   -->   ( 981.1638,  893.8960)\n",
        "( 986.0000,  837.0000)   -->   ( 984.4822,  835.9082)\n",
        "( 972.0000,  854.0000)   -->   ( 970.4629,  852.8414)\n",
        "( 912.0000,  856.0000)   -->   ( 910.6782,  854.6913)\n",
        "( 817.0000,  886.0000)   -->   ( 816.7313,  885.6313)\n",
        "( 837.0000,  885.0000)   -->   ( 836.2727,  884.2213)\n",
        "( 822.0000,  859.0000)   -->   ( 820.7474,  857.7251)\n",
        "( 778.0000,  910.0000)   -->   ( 777.0725,  908.5170)\n",
        "( 775.0000,  888.0000)   -->   ( 774.3933,  887.9285)\n",
        "( 766.0000,  839.0000)   -->   ( 765.1165,  837.6093)\n",
        "(1144.0000, 1085.0000)   -->   (1143.2388, 1083.9895)\n",
        "(1020.0000, 1168.0000)   -->   (1019.6185, 1167.1803)\n",
        "( 915.0000, 1182.0000)   -->   ( 914.4246, 1180.8898)\n",
        "( 837.0000, 1145.0000)   -->   ( 835.9703, 1144.0429)\n",
        "( 744.0000, 1190.0000)   -->   ( 743.0891, 1188.6840)\n",
        "(1356.0000, 1160.0000)   -->   (1355.2678, 1158.4148)\n",
        "(1279.0000, 1213.0000)   -->   (1278.4044, 1212.2598)\n",
        "( 784.0000, 1030.0000)   -->   ( 782.9639, 1029.2277)\n",
        "( 718.0000, 1194.0000)   -->   ( 716.7080, 1192.8162)\n",
        "(1316.0000, 1193.0000)   -->   (1314.8816, 1191.8478)\n",
        "(1317.0000, 1118.0000)   -->   (1315.8560, 1117.4947)\n",
        "(1369.0000, 1039.0000)   -->   (1367.8832, 1038.1376)\n",
        "( 395.0000, 1153.0000)   -->   ( 394.3371, 1151.9868)\n",
        "( 402.0000, 1182.0000)   -->   ( 401.8328, 1180.8886)\n",
        "( 266.0000, 1177.0000)   -->   ( 265.4303, 1175.9917)\n",
        "( 296.0000, 1178.0000)   -->   ( 295.1481, 1177.1675)\n",
        "( 182.0000, 1187.0000)   -->   ( 180.9031, 1185.9783)\n",
        "( 120.0000, 1231.0000)   -->   ( 118.9854, 1230.2979)\n",
        "( 179.0000, 1049.0000)   -->   ( 178.5613, 1048.1339)\n",
        "( 195.0000,  963.0000)   -->   ( 194.6554,  962.1049)\n",
        "( 289.0000,  966.0000)   -->   ( 287.6359,  964.9451)\n",
        "( 417.0000, 1043.0000)   -->   ( 416.0370, 1042.5630)\n",
        "( 400.0000, 1103.0000)   -->   ( 399.3272, 1102.6611)\n",
        "( 278.0000, 1103.0000)   -->   ( 276.8087, 1102.0157)\n",
        "( 266.0000, 1119.0000)   -->   ( 265.4264, 1117.4959)\n",
        "( 178.0000, 1101.0000)   -->   ( 177.3063, 1100.5737)\n",
        "(1104.0000, 1134.0000)   -->   (1103.0530, 1133.4347)\n",
        "( 837.0000, 1012.0000)   -->   ( 835.7477, 1011.4702)\n",
        "( 745.0000, 1038.0000)   -->   ( 743.7576, 1036.5988)\n",
        "(  98.0000,  984.0000)   -->   (  97.9067,  983.5966)\n",
        "( 148.0000, 1034.0000)   -->   ( 146.9978, 1033.5503)\n",
        "(  77.0000, 1088.0000)   -->   (  75.6123, 1086.5567)\n",
        "(  56.0000, 1069.0000)   -->   (  54.3574, 1067.3928)\n",
        "( 399.0000, 1251.0000)   -->   ( 397.1413, 1250.2816)\n",
        "( 442.0000, 1260.0000)   -->   ( 440.7145, 1259.1753)\n",
        "( 557.0000, 1242.0000)   -->   ( 556.0593, 1241.0426)\n",
        "( 567.0000, 1208.0000)   -->   ( 566.1498, 1206.9478)\n",
        "( 590.0000,  931.0000)   -->   ( 588.8585,  930.7260)\n",
        "( 667.0000,  969.0000)   -->   ( 666.4362,  967.7744)\n",
        "( 522.0000,  946.0000)   -->   ( 520.7590,  945.0563)\n",
        "( 518.0000,  848.0000)   -->   ( 516.8395,  846.6376)\n",
        "( 210.0000,  878.0000)   -->   ( 208.7999,  877.0594)\n",
        "( 205.0000,  901.0000)   -->   ( 204.1084,  900.1963)\n",
        "(  74.0000,  880.0000)   -->   (  72.6811,  878.8181)\n",
        "(  35.0000,  927.0000)   -->   (  33.2658,  926.4189)\n",
        "(1498.0000, 1121.0000)   -->   (1495.7168, 1119.1654)\n",
        "(1652.0000, 1287.0000)   -->   (1650.7229, 1286.1181)\n",
        "(1871.0000, 1240.0000)   -->   (1870.0146, 1238.8928)\n",
        "(2011.0000, 1086.0000)   -->   (2009.5383, 1085.0649)\n",
        "(1996.0000,  966.0000)   -->   (1994.0416,  964.1746)\n",
        "(1791.0000,  884.0000)   -->   (1789.5931,  883.5478)\n",
        "(1662.0000,  988.0000)   -->   (1661.2351,  986.4944)\n",
        "(1457.0000, 1244.0000)   -->   (1455.6165, 1243.4920)\n",
        "(1538.0000,  926.0000)   -->   (1536.9826,  924.9728)\n",
        "(1524.0000,  900.0000)   -->   (1523.1698,  899.3403)\n",
        "(1447.0000,  920.0000)   -->   (1446.1617,  919.0909)\n",
        "(1406.0000,  965.0000)   -->   (1404.3831,  964.9514)\n",
        "(1438.0000, 1024.0000)   -->   (1436.7381, 1023.0447)\n",
        "(1505.0000, 1072.0000)   -->   (1504.7285, 1070.4473)\n",
        "(1496.0000, 1181.0000)   -->   (1495.8374, 1180.4989)\n",
        "(1369.0000, 1252.0000)   -->   (1368.6074, 1251.1380)\n",
        "(1763.0000, 1172.0000)   -->   (1762.0415, 1170.6524)\n",
        "(1541.0000, 1181.0000)   -->   (1539.8292, 1180.4933)\n",
        "(1668.0000,  910.0000)   -->   (1667.3257,  908.5278)\n",
        "(1855.0000, 1053.0000)   -->   (1854.3929, 1052.2682)\n",
        "(2019.0000, 1167.0000)   -->   (2017.8555, 1166.0966)\n",
        "(1607.0000, 1035.0000)   -->   (1605.8600, 1034.1205)\n",
        "( 617.0000,  600.0000)   -->   ( 616.7555,  600.6078)\n",
        "( 640.0000,  673.0000)   -->   ( 639.2219,  672.6255)\n",
        "( 987.0000,  558.0000)   -->   ( 985.5849,  556.9702)\n",
        "( 924.0000,  564.0000)   -->   ( 923.3993,  563.1528)\n",
        "( 983.0000,  671.0000)   -->   ( 981.5618,  670.9273)\n",
        "( 848.0000,  728.0000)   -->   ( 847.6547,  726.8631)\n",
        "( 824.0000,  763.0000)   -->   ( 822.8180,  761.9442)\n",
        "(1153.0000,  618.0000)   -->   (1151.4018,  617.2472)\n",
        "(1081.0000,  596.0000)   -->   (1079.1256,  595.1939)\n",
        "(1046.0000,  507.0000)   -->   (1044.2612,  505.9313)\n",
        "(1109.0000,  541.0000)   -->   (1108.0212,  539.9153)\n",
        "(1316.0000,  655.0000)   -->   (1315.4104,  654.2984)\n",
        "(1251.0000,  677.0000)   -->   (1249.9006,  675.9115)\n",
        "(1199.0000,  720.0000)   -->   (1197.7609,  719.6667)\n",
        "(1058.0000,  838.0000)   -->   (1056.8943,  836.7818)\n",
        "(1356.0000,  821.0000)   -->   (1354.7188,  819.9408)\n",
        "( 802.0000,  654.0000)   -->   ( 800.8713,  653.3261)\n",
        "( 735.0000,  810.0000)   -->   ( 733.7440,  809.1623)\n",
        "(1098.0000,  838.0000)   -->   (1095.9874,  837.3263)\n",
        "(1140.0000,  882.0000)   -->   (1139.4777,  880.3398)\n",
        "( 867.0000,  522.0000)   -->   ( 866.2288,  521.7888)\n",
        "(1668.0000,  762.0000)   -->   (1667.6187,  760.8503)\n",
        "(1579.0000,  822.0000)   -->   (1577.9329,  821.6692)\n",
        "(1860.0000,  694.0000)   -->   (1859.1184,  693.1645)\n",
        "(1756.0000,  651.0000)   -->   (1754.4592,  649.7314)\n",
        "(1732.0000,  643.0000)   -->   (1731.2823,  642.0088)\n",
        "(1752.0000,  594.0000)   -->   (1752.1228,  593.3760)\n",
        "(1444.0000,  781.0000)   -->   (1442.1318,  781.1547)\n",
        "(1953.0000,  826.0000)   -->   (1952.2094,  825.0361)\n",
        "(1875.0000,  845.0000)   -->   (1873.8149,  844.1480)\n",
        "(1607.0000,  682.0000)   -->   (1606.1435,  681.7803)\n",
        "(1636.0000,  689.0000)   -->   (1634.5827,  688.4222)\n",
        "(1525.0000,  781.0000)   -->   (1523.2759,  779.8604)\n",
        "(1481.0000,  777.0000)   -->   (1479.9527,  776.5460)\n",
        "(1979.0000,  510.0000)   -->   (1978.5492,  509.4222)\n",
        "(1759.0000,  570.0000)   -->   (1757.7918,  570.2062)\n",
        "(1752.0000,  521.0000)   -->   (1750.9401,  519.9404)\n",
        "(1704.0000,  577.0000)   -->   (1703.3930,  575.9793)\n",
        "( 393.0000,  192.0000)   -->   ( 391.7889,  192.0124)\n",
        "( 429.0000,  151.0000)   -->   ( 427.9513,  150.3160)\n",
        "( 486.0000,   75.0000)   -->   ( 484.3197,   74.0468)\n",
        "( 617.0000,   71.0000)   -->   ( 615.9616,   70.0278)\n",
        "( 289.0000,  319.0000)   -->   ( 288.2627,  318.1039)\n",
        "( 236.0000,  379.0000)   -->   ( 235.5517,  377.8687)\n",
        "(  73.0000,  250.0000)   -->   (  71.9136,  249.9144)\n",
        "(1037.0000,  339.0000)   -->   (1035.5152,  338.6391)\n",
        "(1005.0000,  331.0000)   -->   (1004.1585,  329.6068)\n",
        "( 751.0000,  188.0000)   -->   ( 749.6661,  186.9154)\n",
        "( 796.0000,  108.0000)   -->   ( 795.0630,  107.8432)\n",
        "(1000.0000,   65.0000)   -->   ( 998.4550,   63.9593)\n",
        "( 972.0000,   66.0000)   -->   ( 970.0467,   65.2454)\n",
        "( 932.0000,   63.0000)   -->   ( 930.8540,   62.0946)\n",
        "(1166.0000,  280.0000)   -->   (1165.3881,  279.0127)\n",
        "(1170.0000,  347.0000)   -->   (1168.2881,  346.8072)\n",
        "( 871.0000,  383.0000)   -->   ( 869.8274,  381.6458)\n",
        "( 717.0000,  416.0000)   -->   ( 716.2191,  415.4946)\n",
        "( 689.0000,  441.0000)   -->   ( 688.3244,  439.7723)\n",
        "(1180.0000,  446.0000)   -->   (1177.9767,  444.3409)\n",
        "(1223.0000,  379.0000)   -->   (1221.8636,  378.0638)\n",
        "(1222.0000,  155.0000)   -->   (1220.6191,  154.0915)\n",
        "(1221.0000,   65.0000)   -->   (1219.8914,   65.0346)\n",
        "(1482.0000,  283.0000)   -->   (1481.3478,  281.3029)\n",
        "(1447.0000,  257.0000)   -->   (1443.9730,  255.3460)\n",
        "(1402.0000,  443.0000)   -->   (1400.9724,  442.4072)\n",
        "(1324.0000,  412.0000)   -->   (1321.8986,  409.9159)\n",
        "(1330.0000,  456.0000)   -->   (1328.5982,  454.7726)\n",
        "(1343.0000,  133.0000)   -->   (1341.9718,  131.8524)\n",
        "(1293.0000,   70.0000)   -->   (1290.6944,   68.0722)\n",
        "(1251.0000,  106.0000)   -->   (1251.2626,  104.6732)\n",
        "(1754.0000,   81.0000)   -->   (1753.4416,   80.6761)\n",
        "(1680.0000,   46.0000)   -->   (1678.6660,   44.5921)\n",
        "(1589.0000,   79.0000)   -->   (1588.1893,   77.9707)\n",
        "(1810.0000,  146.0000)   -->   (1808.5481,  145.7542)\n",
        "(1686.0000,  275.0000)   -->   (1684.2243,  274.8955)\n",
        "(1670.0000,  431.0000)   -->   (1668.9327,  429.8974)\n",
        "(1608.0000,  401.0000)   -->   (1606.6770,  400.3598)\n",
        "(1529.0000,  408.0000)   -->   (1528.1379,  407.0632)\n",
        "(1280.0000,  421.0000)   -->   (1278.7779,  420.3404)\n",
        "(1270.0000,  444.0000)   -->   (1269.4768,  442.8119)\n",
        "(1872.0000,  150.0000)   -->   (1870.2911,  148.6654)\n",
        "(1941.0000,  327.0000)   -->   (1939.5586,  326.5482)\n",
        "(2006.0000,  432.0000)   -->   (2004.5041,  431.3004)\n",
        "(2015.0000,  371.0000)   -->   (2014.4870,  370.2433)\n",
        "(2036.0000,  385.0000)   -->   (2033.9889,  384.6927)\n",
        "(2037.0000,  249.0000)   -->   (2035.9400,  248.8274)\n",
        "(1977.0000,  210.0000)   -->   (1976.1871,  208.8613)\n",
        "(1968.0000,  229.0000)   -->   (1967.2873,  228.9520)\n",
        "(1912.0000,  204.0000)   -->   (1910.6973,  203.5936)\n",
        "(1896.0000, 1541.0000)   -->   (1894.9221, 1538.3520)\n",
        "(1770.0000, 1644.0000)   -->   (1767.2831, 1642.9431)\n",
        "(2013.0000, 1623.0000)   -->   (2010.7013, 1621.9718)\n",
        "(1928.0000, 1607.0000)   -->   (1925.6300, 1607.0834)\n",
        "(1878.0000, 1609.0000)   -->   (1875.2477, 1609.0420)\n",
        "(1636.0000, 1547.0000)   -->   (1634.4980, 1546.4057)\n",
        "(1666.0000, 1527.0000)   -->   (1664.7555, 1525.1786)\n",
        "(1684.0000, 1601.0000)   -->   (1682.9979, 1599.8339)\n",
        "(1649.0000, 1628.0000)   -->   (1647.0372, 1627.0679)\n",
        "(1439.0000, 1432.0000)   -->   (1437.7303, 1431.8919)\n",
        "(1495.0000, 1301.0000)   -->   (1493.8849, 1300.1320)\n",
        "(1519.0000, 1310.0000)   -->   (1517.6548, 1309.2598)\n",
        "(1173.0000, 1606.0000)   -->   (1172.8301, 1605.7959)\n",
        "(1198.0000, 1591.0000)   -->   (1196.4184, 1589.7073)\n",
        "(1286.0000, 1640.0000)   -->   (1285.3588, 1639.7998)\n",
        "( 999.0000, 1568.0000)   -->   ( 998.0460, 1567.1146)\n",
        "( 995.0000, 1517.0000)   -->   ( 994.2379, 1515.1860)\n",
        "( 837.0000, 1367.0000)   -->   ( 835.4800, 1365.8665)\n",
        "( 761.0000, 1345.0000)   -->   ( 759.0688, 1344.7913)\n",
        "(1239.0000, 1443.0000)   -->   (1238.3122, 1442.3328)\n",
        "(1352.0000, 1639.0000)   -->   (1350.9562, 1637.5857)\n",
        "(1134.0000, 1691.0000)   -->   (1132.7501, 1690.1777)\n",
        "( 919.0000, 1638.0000)   -->   ( 918.4850, 1637.2976)\n",
        "( 852.0000, 1713.0000)   -->   ( 850.9897, 1711.9169)\n",
        "( 676.0000, 1467.0000)   -->   ( 675.0105, 1465.8914)\n",
        "( 559.0000, 1639.0000)   -->   ( 557.7134, 1638.0436)\n",
        "( 491.0000, 1619.0000)   -->   ( 489.5828, 1617.9587)\n",
        "( 505.0000, 1595.0000)   -->   ( 504.2613, 1594.1507)\n",
        "( 507.0000, 1515.0000)   -->   ( 506.4897, 1513.7943)\n",
        "( 335.0000, 1696.0000)   -->   ( 333.0854, 1694.7565)\n",
        "( 124.0000, 1672.0000)   -->   ( 123.7937, 1671.1699)\n",
        "( 165.0000, 1606.0000)   -->   ( 163.6243, 1605.6728)\n",
        "( 138.0000, 1591.0000)   -->   ( 136.8256, 1590.1318)\n",
        "( 155.0000, 1420.0000)   -->   ( 153.3186, 1419.4382)\n",
        "( 230.0000, 1349.0000)   -->   ( 228.6841, 1348.9219)\n",
        "(  79.0000, 1534.0000)   -->   (  78.1466, 1532.6859)\n",
        "(  97.0000, 1688.0000)   -->   (  96.1884, 1687.6776)\n",
        "( 466.0000, 1917.0000)   -->   ( 464.6192, 1915.6596)\n",
        "( 467.0000, 1841.0000)   -->   ( 465.4378, 1840.7364)\n",
        "( 402.0000, 1846.0000)   -->   ( 400.7808, 1844.4847)\n",
        "( 425.0000, 1838.0000)   -->   ( 423.1350, 1836.1598)\n",
        "( 280.0000, 1852.0000)   -->   ( 278.0284, 1851.8232)\n",
        "( 188.0000, 1837.0000)   -->   ( 187.0063, 1836.5671)\n",
        "( 284.0000, 1894.0000)   -->   ( 283.3752, 1893.1430)\n",
        "( 326.0000, 1917.0000)   -->   ( 324.9634, 1915.7938)\n",
        "( 598.0000, 1858.0000)   -->   ( 596.8423, 1856.5492)\n",
        "( 605.0000, 1788.0000)   -->   ( 604.2028, 1786.4723)\n",
        "( 669.0000, 1673.0000)   -->   ( 667.8619, 1672.5526)\n",
        "( 599.0000, 1970.0000)   -->   ( 598.0241, 1969.0118)\n",
        "(1075.0000, 1945.0000)   -->   (1073.6535, 1943.4119)\n",
        "(1157.0000, 1920.0000)   -->   (1155.9982, 1919.5499)\n",
        "( 919.0000, 1925.0000)   -->   ( 918.0144, 1924.9230)\n",
        "( 869.0000, 1879.0000)   -->   ( 868.9241, 1876.7986)\n",
        "( 814.0000, 1898.0000)   -->   ( 813.0777, 1897.7607)\n",
        "(1332.0000, 1856.0000)   -->   (1330.7706, 1855.1684)\n",
        "(1317.0000, 1798.0000)   -->   (1315.9917, 1797.4231)\n",
        "(1285.0000, 1872.0000)   -->   (1283.5969, 1871.5248)\n",
        "(1242.0000, 1817.0000)   -->   (1241.2562, 1815.9722)\n",
        "(1271.0000, 1838.0000)   -->   (1270.6804, 1837.1217)\n",
        "(1083.0000, 1860.0000)   -->   (1082.2402, 1859.0775)\n",
        "( 991.0000, 1914.0000)   -->   ( 989.6982, 1913.5824)\n",
        "(1027.0000, 1966.0000)   -->   (1025.2118, 1965.6044)\n",
        "(1031.0000, 1906.0000)   -->   (1029.9032, 1905.6675)\n",
        "( 883.0000, 2004.0000)   -->   ( 881.8609, 2003.6381)\n",
        "(1628.0000, 1802.0000)   -->   (1627.0647, 1801.3098)\n",
        "(1651.0000, 1797.0000)   -->   (1649.4924, 1796.5962)\n",
        "(1571.0000, 1762.0000)   -->   (1570.9252, 1760.6725)\n",
        "(1369.0000, 1818.0000)   -->   (1367.6900, 1816.4319)\n",
        "(1809.0000, 1841.0000)   -->   (1807.8286, 1839.8681)\n",
        "(1773.0000, 1961.0000)   -->   (1771.9767, 1959.6548)\n",
        "(1763.0000, 1934.0000)   -->   (1761.9846, 1933.1509)\n",
        "(1509.0000, 1943.0000)   -->   (1507.7053, 1942.1721)\n",
        "(1568.0000, 1920.0000)   -->   (1567.3574, 1919.0384)\n",
        "(1627.0000, 1955.0000)   -->   (1625.5077, 1953.5344)\n",
        "(1502.0000, 1602.0000)   -->   (1500.3112, 1602.1947)\n",
        "(1445.0000, 1933.0000)   -->   (1443.1756, 1932.5924)\n",
        "(1231.0000, 1965.0000)   -->   (1229.3225, 1964.1113)\n",
        "(2019.0000, 1773.0000)   -->   (2018.0847, 1772.9584)\n",
        "(1924.0000, 1714.0000)   -->   (1921.4751, 1714.0719)\n",
        "(1915.0000, 1777.0000)   -->   (1914.1346, 1776.2001)\n",
        "(1878.0000, 1710.0000)   -->   (1877.2011, 1709.0717)\n",
        "(1964.0000, 1661.0000)   -->   (1963.6588, 1659.8875)\n",
        "(1404.0000, 2010.0000)   -->   (1402.2314, 2008.3392)\n",
        "(1884.0000, 2012.0000)   -->   (1883.8647, 2011.4028)\n"
       ]
      }
     ],
     "prompt_number": 9
    },
    {
     "cell_type": "markdown",
     "metadata": {},
     "source": [
      "## III. Fit ePSF to a star ##"
     ]
    },
    {
     "cell_type": "code",
     "collapsed": false,
     "input": [
      "star_coord = np.array([[919.375, 1105.5]]) # measured with DS9\n",
      "\n",
      "# extract \"cutout\" of the star to be fitted:\n",
      "star1, blc1 = psfutils.extract_stars(star_coord, image, extract_size=21)\n",
      "\n",
      "# fit ePSF to this star:\n",
      "fitted_stars, fitted_fluxes, fi, res, errstat = psfutils.fit_stars(\n",
      "    epsf, star1, oversampling=4, fitbox=5, residuals=True, update_flux=False, flux0=[6271.]\n",
      ")\n",
      "\n",
      "# print some results and statistics:\n",
      "print(\"Flux:\\n-----\\nEnclosed star flux: {:22.15f}\".format(star1[0].flux.value))\n",
      "print(\"ePSF fitted star flux: {:22.15f}\".format(fitted_fluxes[0]))\n",
      "print(\"\\nCoorodinates:\\n-------------\\nInitial star coordinates: {}, {}\".format(star_coord[0,0], star_coord[0,1]))\n",
      "print(\"Fitted star coordinates: {}, {}\".format(fitted_stars[0].origin[0] + blc1[0][0],\n",
      "                                               fitted_stars[0].origin[1] + blc1[0][1]))"
     ],
     "language": "python",
     "metadata": {},
     "outputs": [
      {
       "output_type": "stream",
       "stream": "stdout",
       "text": [
        "Flux:\n",
        "-----\n",
        "Enclosed star flux: 627183.062500000000000\n",
        "ePSF fitted star flux: 638100.624023906770162\n",
        "\n",
        "Coorodinates:\n",
        "-------------\n",
        "Initial star coordinates: 918.375, 1104.5\n",
        "Fitted star coordinates: 918.594039754, 1104.84231218\n"
       ]
      }
     ],
     "prompt_number": 10
    },
    {
     "cell_type": "code",
     "collapsed": false,
     "input": [
      "# Show \"cutouts\" for the star, residual of the fit, and relative \"error\" (100|residual/star.data|):\n",
      "mindata = None\n",
      "maxdata = None\n",
      "fig=plt.figure(figsize=(15,15))\n",
      "ax1 = plt.subplot(151)\n",
      "ax1.axis('off')\n",
      "ax1.matshow(np.log10(np.abs(star1[0].ndata)), vmin=-5, vmax=np.log10(np.amax(star1[0].ndata)), cmap=plt.cm.gray)\n",
      "ax2 = plt.subplot(152)\n",
      "ax2.axis('off')\n",
      "ax2.matshow(res[0], vmin=np.amin(res[0])/10, vmax=np.amax(res[0])/10, cmap=plt.cm.gray)\n",
      "ax3 = plt.subplot(153)\n",
      "ax3.axis('off')\n",
      "ax3.matshow(100*np.abs(res[0]/star1[0].data), vmin=0, vmax=50, cmap=plt.cm.gray)\n",
      "plt.show()\n",
      "print(\"\\nResiduals:\\n----------\\naverage(residual) per pixel = {}\".format(np.sum(res[0]) / res[0].size))\n",
      "print(\"rms(residual) = {}\".format(np.std(res[0])))\n",
      "print(\"min(residual) = {}\".format(np.amin(res[0])))\n",
      "print(\"max(residual) = {}\".format(np.amax(res[0])))"
     ],
     "language": "python",
     "metadata": {},
     "outputs": [
      {
       "metadata": {},
       "output_type": "display_data",
       "png": "[encoded data removed]",
       "text": [
        "<matplotlib.figure.Figure at 0x10ec78a50>"
       ]
      },
      {
       "output_type": "stream",
       "stream": "stdout",
       "text": [
        "\n",
        "Residuals:\n",
        "----------\n",
        "average(residual) per pixel = -24.7565163887\n",
        "rms(residual) = 637.796266441\n",
        "min(residual) = -7330.44202865\n",
        "max(residual) = 4815.49620061\n"
       ]
      }
     ],
     "prompt_number": 11
    },
    {
     "cell_type": "code",
     "collapsed": false,
     "input": [],
     "language": "python",
     "metadata": {},
     "outputs": [],
     "prompt_number": 11
    }
   ],
   "metadata": {}
  }
 ]
}